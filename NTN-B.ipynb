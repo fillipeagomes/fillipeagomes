{
 "cells": [
  {
   "cell_type": "code",
   "execution_count": 1,
   "id": "1b756910",
   "metadata": {},
   "outputs": [
    {
     "name": "stdout",
     "output_type": "stream",
     "text": [
      "Requirement already satisfied: workadays in c:\\users\\fgomes\\anaconda3\\lib\\site-packages (2022.8.8)\n",
      "Requirement already satisfied: python-dateutil>=2.8.0 in c:\\users\\fgomes\\anaconda3\\lib\\site-packages (from workadays) (2.8.2)\n",
      "Requirement already satisfied: six>=1.11.0 in c:\\users\\fgomes\\anaconda3\\lib\\site-packages (from workadays) (1.16.0)"
     ]
    },
    {
     "name": "stderr",
     "output_type": "stream",
     "text": [
      "WARNING: Ignoring invalid distribution -atplotlib (c:\\users\\fgomes\\anaconda3\\lib\\site-packages)\n",
      "WARNING: Ignoring invalid distribution -atplotlib (c:\\users\\fgomes\\anaconda3\\lib\\site-packages)"
     ]
    },
    {
     "name": "stdout",
     "output_type": "stream",
     "text": [
      "\n"
     ]
    },
    {
     "name": "stderr",
     "output_type": "stream",
     "text": [
      "\n",
      "WARNING: Ignoring invalid distribution -atplotlib (c:\\users\\fgomes\\anaconda3\\lib\\site-packages)\n",
      "WARNING: Ignoring invalid distribution -atplotlib (c:\\users\\fgomes\\anaconda3\\lib\\site-packages)\n",
      "WARNING: Ignoring invalid distribution -atplotlib (c:\\users\\fgomes\\anaconda3\\lib\\site-packages)\n",
      "WARNING: Ignoring invalid distribution -atplotlib (c:\\users\\fgomes\\anaconda3\\lib\\site-packages)\n"
     ]
    }
   ],
   "source": [
    "!pip install workadays"
   ]
  },
  {
   "cell_type": "code",
   "execution_count": 7,
   "id": "2f561546",
   "metadata": {},
   "outputs": [],
   "source": [
    "import math\n",
    "import pandas as pd\n",
    "import datetime as dt\n",
    "from datetime import datetime\n",
    "from workadays import workdays as wd\n",
    "from datetime import date"
   ]
  },
  {
   "cell_type": "code",
   "execution_count": 3,
   "id": "f0d323d2",
   "metadata": {},
   "outputs": [],
   "source": [
    "def truncate(num, n):\n",
    "    integer = int(num * (10**n))/(10**n)\n",
    "    return float(integer)"
   ]
  },
  {
   "cell_type": "code",
   "execution_count": 4,
   "id": "bf4b187d",
   "metadata": {},
   "outputs": [],
   "source": [
    "hoje = dt.date(2023,8,3)"
   ]
  },
  {
   "cell_type": "code",
   "execution_count": 9,
   "id": "7d3e0fc0",
   "metadata": {},
   "outputs": [
    {
     "data": {
      "text/plain": [
       "4342.897242"
      ]
     },
     "execution_count": 9,
     "metadata": {},
     "output_type": "execute_result"
    }
   ],
   "source": [
    "# PRECIFICANDO NTN-B\n",
    "\n",
    "cupom = 0.06\n",
    "vencimento = dt.date(2026,8,15)\n",
    "i = 5.0874\n",
    "vna_ipca = 4126.821021\n",
    "\n",
    "taxa_cupom = round((((1+cupom)**0.5)-1),8)\n",
    "\n",
    "if vencimento.year%2 == 0:\n",
    "    ano_vencimento ='par'\n",
    "else:\n",
    "    ano_vencimento ='impar'\n",
    "\n",
    "if ano_vencimento == 'par':\n",
    "    if hoje.month < 2:\n",
    "        fluxo_1_par = '15/02/' + str(hoje.year)\n",
    "    if hoje.month == 2 and hoje.day < 15:\n",
    "        fluxo_1_par = '15/02/' + str(hoje.year)\n",
    "    if hoje.month == 2 and hoje.day >= 15:\n",
    "        fluxo_1_par = '15/08/' + str(hoje.year)\n",
    "    if hoje.month > 2 and hoje.month < 8:\n",
    "        fluxo_1_par = '15/08/' + str(hoje.year)\n",
    "    if hoje.month == 8 and hoje.day < 15:\n",
    "        fluxo_1_par = '15/08/' + str(hoje.year)\n",
    "    if hoje.month == 8 and hoje.day >= 15:\n",
    "        fluxo_1_par = '15/02/' + (str(hoje.year + 1))\n",
    "    if hoje.month > 8:\n",
    "        fluxo_1_par = '15/02/' + (str(hoje.year + 1))  \n",
    "        \n",
    "    fluxo_total = []\n",
    "    fluxo_total.append(fluxo_1_par)\n",
    "    fluxo_1_par = datetime.strptime(fluxo_1_par,'%d/%m/%Y').date()\n",
    "        \n",
    "    while(fluxo_1_par < vencimento):\n",
    "        fluxo_n_par = '15/' + (str(fluxo_1_par.month + 6)) + '/' + str(fluxo_1_par.year)\n",
    "        if float(str(fluxo_1_par.month + 6)) > 8:\n",
    "            fluxo_n_par = '15/02/' + (str(fluxo_1_par.year + 1))\n",
    "        else:\n",
    "            fluxo_n_par = '15/08/' + str(fluxo_1_par.year)\n",
    "            \n",
    "        fluxo_total.append(fluxo_n_par)\n",
    "        fluxo_1_par = datetime.strptime(fluxo_n_par,'%d/%m/%Y').date()\n",
    "\n",
    "if ano_vencimento == 'impar':\n",
    "    if hoje.month < 5:\n",
    "        fluxo_2 = '15/05/' + str(hoje.year)\n",
    "    if hoje.month == 5 and hoje.day < 15:\n",
    "        fluxo_2 = '15/05/' + str(hoje.year)\n",
    "    if hoje.month == 5 and hoje.day >= 15:\n",
    "        fluxo_2 = '15/11/' + str(hoje.year)\n",
    "    if hoje.month > 5 and hoje.month < 11:\n",
    "        fluxo_2 = '15/11/' + str(hoje.year)\n",
    "    if hoje.month == 11 and hoje.day < 15:\n",
    "        fluxo_2 = '15/11/' + str(hoje.year)\n",
    "    if hoje.month == 8 and hoje.day >= 15:\n",
    "        fluxo_2 = '15/05/' + (str(hoje.year + 1))\n",
    "    if hoje.month > 8:\n",
    "        fluxo_2 = '15/05/' + (str(hoje.year + 1))\n",
    "        \n",
    "    fluxo_total = []\n",
    "    fluxo_total.append(fluxo_2)\n",
    "    fluxo_2 = datetime.strptime(fluxo_2,'%d/%m/%Y').date()\n",
    "        \n",
    "    while(fluxo_2 < vencimento):\n",
    "        fluxo_n = '15/' + (str(fluxo_2.month + 6)) + '/' + str(fluxo_2.year)\n",
    "        if float(str(fluxo_2.month + 6)) > 11:\n",
    "            fluxo_n = '15/05/' + (str(fluxo_2.year + 1))\n",
    "        else:\n",
    "            fluxo_n = '15/11/' + str(fluxo_2.year)\n",
    "            \n",
    "        fluxo_total.append(fluxo_n)\n",
    "        fluxo_2 = datetime.strptime(fluxo_n,'%d/%m/%Y').date()\n",
    "            \n",
    "fluxo_pgto = []\n",
    "for data in fluxo_total:\n",
    "    data = datetime.strptime(data,'%d/%m/%Y').date()\n",
    "    data = wd.workdays(wd.workdays(data,-1),+1)\n",
    "    fluxo_pgto.append(data)\n",
    "                \n",
    "diaano_pgto = []\n",
    "for data in fluxo_pgto:\n",
    "    data = truncate((wd.networkdays(hoje,data,252))/252,14)\n",
    "    diaano_pgto.append(data)\n",
    "                \n",
    "pg_cupom = []\n",
    "for data in diaano_pgto:\n",
    "    valor_cupom = (taxa_cupom*100)/(1+i/100)**data\n",
    "    pg_cupom.append(valor_cupom)\n",
    "        \n",
    "valor_principal = 100/(1+i/100)**(diaano_pgto[-1])\n",
    "cotacao = truncate(pd.DataFrame(pg_cupom).sum() + valor_principal,4)/100\n",
    "PU = truncate(cotacao*vna_ipca,6)\n",
    "            \n",
    "PU"
   ]
  }
 ],
 "metadata": {
  "kernelspec": {
   "display_name": "Python 3 (ipykernel)",
   "language": "python",
   "name": "python3"
  },
  "language_info": {
   "codemirror_mode": {
    "name": "ipython",
    "version": 3
   },
   "file_extension": ".py",
   "mimetype": "text/x-python",
   "name": "python",
   "nbconvert_exporter": "python",
   "pygments_lexer": "ipython3",
   "version": "3.9.12"
  }
 },
 "nbformat": 4,
 "nbformat_minor": 5
}
